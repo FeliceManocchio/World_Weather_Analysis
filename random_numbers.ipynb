{
 "cells": [
  {
   "cell_type": "code",
   "execution_count": 1,
   "id": "94ac189e",
   "metadata": {},
   "outputs": [],
   "source": [
    "# Import the random module.\n",
    "import random"
   ]
  },
  {
   "cell_type": "code",
   "execution_count": 3,
   "id": "3a3cb680",
   "metadata": {},
   "outputs": [
    {
     "data": {
      "text/plain": [
       "-48"
      ]
     },
     "execution_count": 3,
     "metadata": {},
     "output_type": "execute_result"
    }
   ],
   "source": [
    "random.randint( -90 , 90)"
   ]
  },
  {
   "cell_type": "code",
   "execution_count": 4,
   "id": "c52c8a32",
   "metadata": {},
   "outputs": [],
   "source": [
    "x = 1\n",
    "latitudes = []\n",
    "while x < 11:\n",
    "    random_lat = random.randint(-90, 89) + random.random()\n",
    "    latitudes.append(random_lat)\n",
    "    x += 1"
   ]
  },
  {
   "cell_type": "code",
   "execution_count": 5,
   "id": "5287f64b",
   "metadata": {},
   "outputs": [
    {
     "data": {
      "text/plain": [
       "[-76.36649442716089,\n",
       " -80.76777436748173,\n",
       " -25.00076714724098,\n",
       " -6.636995063659722,\n",
       " 63.744506668028905,\n",
       " 34.37514441459344,\n",
       " -21.243596608712718,\n",
       " -1.5943803231844957,\n",
       " -25.24372461543588,\n",
       " -16.52263492879688]"
      ]
     },
     "execution_count": 5,
     "metadata": {},
     "output_type": "execute_result"
    }
   ],
   "source": [
    "latitudes"
   ]
  },
  {
   "cell_type": "code",
   "execution_count": 6,
   "id": "c866c4cc",
   "metadata": {},
   "outputs": [
    {
     "data": {
      "text/plain": [
       "-63"
      ]
     },
     "execution_count": 6,
     "metadata": {},
     "output_type": "execute_result"
    }
   ],
   "source": [
    "random.randrange(-90, 90, step=1)"
   ]
  },
  {
   "cell_type": "code",
   "execution_count": 7,
   "id": "e4e5af58",
   "metadata": {},
   "outputs": [
    {
     "data": {
      "text/plain": [
       "9"
      ]
     },
     "execution_count": 7,
     "metadata": {},
     "output_type": "execute_result"
    }
   ],
   "source": [
    "random.randrange(-90, 90, step=3)"
   ]
  },
  {
   "cell_type": "code",
   "execution_count": 8,
   "id": "ea0ba211",
   "metadata": {},
   "outputs": [
    {
     "data": {
      "text/plain": [
       "-16.601558075980407"
      ]
     },
     "execution_count": 8,
     "metadata": {},
     "output_type": "execute_result"
    }
   ],
   "source": [
    "random.uniform(-90, 90)"
   ]
  },
  {
   "cell_type": "code",
   "execution_count": 9,
   "id": "191a4e7b",
   "metadata": {},
   "outputs": [],
   "source": [
    "# Import the NumPy module.\n",
    "import numpy as np"
   ]
  },
  {
   "cell_type": "code",
   "execution_count": 10,
   "id": "1e18315e",
   "metadata": {},
   "outputs": [
    {
     "data": {
      "text/plain": [
       "-88.9016903644818"
      ]
     },
     "execution_count": 10,
     "metadata": {},
     "output_type": "execute_result"
    }
   ],
   "source": [
    "np.random.uniform(-90.000, 90.000)"
   ]
  },
  {
   "cell_type": "code",
   "execution_count": 11,
   "id": "8f6f918e",
   "metadata": {},
   "outputs": [
    {
     "data": {
      "text/plain": [
       "array([-85.6877949 ,  43.91829813,  36.1509902 ,  27.52308564,\n",
       "        22.14820792, -13.38855626,  61.20216533, -48.02038532,\n",
       "       -79.10323086,  89.13658891,  29.05968897,  84.01718187,\n",
       "        42.92095408, -14.94043979, -45.31167957,  19.917233  ,\n",
       "        67.46526137,  17.17632339,  71.5346933 ,  11.34545766,\n",
       "        70.54469571,  85.49002016, -73.78733764, -25.93290954,\n",
       "        60.78538391, -75.02138299, -79.69378246, -58.7858315 ,\n",
       "       -57.40945004, -25.78137304,  22.9994694 ,   3.24827067,\n",
       "       -46.70672691,  45.0287627 , -30.3895512 ,  89.32373897,\n",
       "       -25.57069604, -72.59261232, -44.10627208,  30.68201044,\n",
       "       -27.68212918,  -5.55302211,  37.05707965, -44.73504641,\n",
       "        63.46146428,  63.076262  , -85.40646569,  65.94601814,\n",
       "        35.5813706 ,  78.13616258])"
      ]
     },
     "execution_count": 11,
     "metadata": {},
     "output_type": "execute_result"
    }
   ],
   "source": [
    "np.random.uniform(-90.000, 90.000, size=50)"
   ]
  },
  {
   "cell_type": "code",
   "execution_count": 12,
   "id": "9ba37e90",
   "metadata": {},
   "outputs": [],
   "source": [
    "# Import timeit.\n",
    "import timeit"
   ]
  },
  {
   "cell_type": "code",
   "execution_count": 16,
   "id": "4bdff7eb",
   "metadata": {},
   "outputs": [
    {
     "name": "stdout",
     "output_type": "stream",
     "text": [
      "12.2 µs ± 8.85 ns per loop (mean ± std. dev. of 7 runs, 100000 loops each)\n"
     ]
    }
   ],
   "source": [
    "%timeit np.random.uniform(-90.000, 90.000, size=1500)"
   ]
  },
  {
   "cell_type": "code",
   "execution_count": 17,
   "id": "0e330d2c",
   "metadata": {},
   "outputs": [
    {
     "name": "stdout",
     "output_type": "stream",
     "text": [
      "1.58 ms ± 4.87 µs per loop (mean ± std. dev. of 7 runs, 1000 loops each)\n"
     ]
    }
   ],
   "source": [
    "def latitudes(size):\n",
    "    latitudes = []\n",
    "    x = 0\n",
    "    while x < (size):\n",
    "        random_lat = random.randint(-90, 90) + random.random()\n",
    "        latitudes.append(random_lat)\n",
    "        x += 1\n",
    "    return latitudes\n",
    "# Call the function with 1500.\n",
    "%timeit latitudes(1500)"
   ]
  },
  {
   "cell_type": "code",
   "execution_count": null,
   "id": "307db0c6",
   "metadata": {},
   "outputs": [],
   "source": []
  }
 ],
 "metadata": {
  "kernelspec": {
   "display_name": "PythonData2021",
   "language": "python",
   "name": "pythondata2021"
  },
  "language_info": {
   "codemirror_mode": {
    "name": "ipython",
    "version": 3
   },
   "file_extension": ".py",
   "mimetype": "text/x-python",
   "name": "python",
   "nbconvert_exporter": "python",
   "pygments_lexer": "ipython3",
   "version": "3.7.10"
  }
 },
 "nbformat": 4,
 "nbformat_minor": 5
}
